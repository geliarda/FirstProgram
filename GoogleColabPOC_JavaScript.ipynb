{
  "nbformat": 4,
  "nbformat_minor": 0,
  "metadata": {
    "colab": {
      "name": "GoogleColabPOC-JavaScript.ipynb",
      "private_outputs": true,
      "provenance": [],
      "collapsed_sections": [],
      "authorship_tag": "ABX9TyO2V3yM8O+dLjj9AuF/xh21",
      "include_colab_link": true
    },
    "kernelspec": {
      "name": "python3",
      "display_name": "Python 3"
    }
  },
  "cells": [
    {
      "cell_type": "markdown",
      "metadata": {
        "id": "view-in-github",
        "colab_type": "text"
      },
      "source": [
        "<a href=\"https://colab.research.google.com/github/geliarda/FirstProgram/blob/master/GoogleColabPOC_JavaScript.ipynb\" target=\"_parent\"><img src=\"https://colab.research.google.com/assets/colab-badge.svg\" alt=\"Open In Colab\"/></a>"
      ]
    },
    {
      "cell_type": "code",
      "metadata": {
        "id": "VpZLKgyWaytN"
      },
      "source": [
        "import IPython\r\n",
        "display(IPython.display.HTML(''' \r\n",
        "  <button id='button'>Submit</button>  \r\n",
        "  <script >   \r\n",
        "    (function (){\r\n",
        "      document.querySelector('#button').onclick = () => {\r\n",
        "        console.log(\"Save the data on the database\");\r\n",
        "      };\r\n",
        "\r\n",
        "      var totalScroll;\r\n",
        "      var notebook = document.querySelector('.notebook-container');\r\n",
        "      notebook.onscroll = logScroll;   \r\n",
        "      function logScroll(e) { \r\n",
        "        const offsiteHightScrollTop = parseInt(notebook.offsetHeight) + parseInt(e.target.scrollTop); \r\n",
        "        if (offsiteHightScrollTop>= notebook.scrollHeight) { \r\n",
        "          console.log(\"scroll down\");\r\n",
        "        }\r\n",
        "        else {\r\n",
        "          console.log(\"scroll up\");\r\n",
        "        }      \r\n",
        "      }\r\n",
        "    })();  \r\n",
        "  </script>\r\n",
        "'''))"
      ],
      "execution_count": null,
      "outputs": []
    },
    {
      "cell_type": "code",
      "metadata": {
        "id": "iOJriHpDw4HY"
      },
      "source": [
        ""
      ],
      "execution_count": null,
      "outputs": []
    }
  ]
}