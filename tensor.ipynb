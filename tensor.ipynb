{
  "nbformat": 4,
  "nbformat_minor": 0,
  "metadata": {
    "colab": {
      "name": "tensor.ipynb",
      "provenance": [],
      "collapsed_sections": [],
      "include_colab_link": true
    },
    "kernelspec": {
      "display_name": "Python 3",
      "name": "python3"
    }
  },
  "cells": [
    {
      "cell_type": "markdown",
      "metadata": {
        "id": "view-in-github",
        "colab_type": "text"
      },
      "source": [
        "<a href=\"https://colab.research.google.com/github/geliarda/FirstProgram/blob/master/tensor.ipynb\" target=\"_parent\"><img src=\"https://colab.research.google.com/assets/colab-badge.svg\" alt=\"Open In Colab\"/></a>"
      ]
    },
    {
      "cell_type": "markdown",
      "metadata": {
        "id": "qFdPvlXBOdUN"
      },
      "source": [
        "# Introduction to Tensors"
      ]
    },
    {
      "cell_type": "markdown",
      "metadata": {
        "id": "MfBg1C5NB3X0"
      },
      "source": [
        "<table class=\"tfo-notebook-buttons\" align=\"left\">\n",
        "  <td>\n",
        "    <a target=\"_blank\" href=\"https://www.tensorflow.org/guide/tensor\"><img src=\"https://www.tensorflow.org/images/tf_logo_32px.png\" />View on TensorFlow.org</a>\n",
        "  </td>\n",
        "  <td>\n",
        "    <a target=\"_blank\" href=\"https://colab.research.google.com/github/tensorflow/docs/blob/master/site/en/guide/tensor.ipynb\"><img src=\"https://www.tensorflow.org/images/colab_logo_32px.png\" />Run in Google Colab</a>\n",
        "  </td>\n",
        "  <td>\n",
        "    <a target=\"_blank\" href=\"https://github.com/tensorflow/docs/blob/master/site/en/guide/tensor.ipynb\"><img src=\"https://www.tensorflow.org/images/GitHub-Mark-32px.png\" />View source on GitHub</a>\n",
        "  </td>\n",
        "  <td>\n",
        "    <a href=\"https://storage.googleapis.com/tensorflow_docs/docs/site/en/guide/tensor.ipynb\"><img src=\"https://www.tensorflow.org/images/download_logo_32px.png\" />Download notebook</a>\n",
        "  </td>\n",
        "</table>"
      ]
    },
    {
      "cell_type": "code",
      "metadata": {
        "id": "AL2hzxorJiWy"
      },
      "source": [
        "import tensorflow as tf\n",
        "import numpy as np"
      ],
      "execution_count": null,
      "outputs": []
    },
    {
      "cell_type": "markdown",
      "metadata": {
        "id": "VQ3s2J8Vgowq"
      },
      "source": [
        "Tensors are multi-dimensional arrays with a uniform type (called a `dtype`).  You can see all supported `dtypes` at `tf.dtypes.DType`.\n",
        "\n",
        "If you're familiar with [NumPy](https://numpy.org/devdocs/user/quickstart.html), tensors are (kind of) like `np.arrays`.\n",
        "\n",
        "All tensors are immutable like Python numbers and strings: you can never update the contents of a tensor, only create a new one.\n"
      ]
    },
    {
      "cell_type": "markdown",
      "metadata": {
        "id": "DRK5-9EpYbzG"
      },
      "source": [
        "## Basics\n",
        "\n",
        "Let's create some basic tensors."
      ]
    },
    {
      "cell_type": "markdown",
      "metadata": {
        "id": "uSHRFT6LJbxq"
      },
      "source": [
        "Here is a \"scalar\" or \"rank-0\" tensor . A scalar contains a single value, and no \"axes\"."
      ]
    },
    {
      "cell_type": "code",
      "metadata": {
        "id": "d5JcgLFR6gHv",
        "colab": {
          "base_uri": "https://localhost:8080/"
        },
        "outputId": "60918fd7-b8cb-40e8-8622-71f9b6a78202"
      },
      "source": [
        "# This will be an int32 tensor by default; see \"dtypes\" below.\n",
        "rank_0_tensor = tf.constant(4)\n",
        "print(rank_0_tensor)"
      ],
      "execution_count": null,
      "outputs": [
        {
          "output_type": "stream",
          "text": [
            "tf.Tensor(4, shape=(), dtype=int32)\n"
          ],
          "name": "stdout"
        }
      ]
    },
    {
      "cell_type": "markdown",
      "metadata": {
        "id": "tdmPAn9fWYs5"
      },
      "source": [
        "A \"vector\" or \"rank-1\" tensor is like a list of values. A vector has one axis:"
      ]
    },
    {
      "cell_type": "code",
      "metadata": {
        "id": "oZos8o_R6oE7",
        "colab": {
          "base_uri": "https://localhost:8080/"
        },
        "outputId": "73d02862-77c3-47bb-9b7b-2ddd0d464326"
      },
      "source": [
        "# Let's make this a float tensor.\n",
        "rank_1_tensor = tf.constant([2.0, 3.0, 4.0])\n",
        "print(rank_1_tensor)"
      ],
      "execution_count": null,
      "outputs": [
        {
          "output_type": "stream",
          "text": [
            "tf.Tensor([2. 3. 4.], shape=(3,), dtype=float32)\n"
          ],
          "name": "stdout"
        }
      ]
    },
    {
      "cell_type": "markdown",
      "metadata": {
        "id": "G3IJG-ug_H4u"
      },
      "source": [
        "A \"matrix\" or \"rank-2\" tensor has two axes:"
      ]
    },
    {
      "cell_type": "code",
      "metadata": {
        "id": "cnOIA_xb6u0M",
        "colab": {
          "base_uri": "https://localhost:8080/"
        },
        "outputId": "03e653bc-7c24-45ec-c425-68cdc22c4cad"
      },
      "source": [
        "# If you want to be specific, you can set the dtype (see below) at creation time\n",
        "rank_2_tensor = tf.constant([[1, 2],\n",
        "                             [3, 4],\n",
        "                             [5, 6]], dtype=tf.float16)\n",
        "print(rank_2_tensor)"
      ],
      "execution_count": null,
      "outputs": [
        {
          "output_type": "stream",
          "text": [
            "tf.Tensor(\n",
            "[[1. 2.]\n",
            " [3. 4.]\n",
            " [5. 6.]], shape=(3, 2), dtype=float16)\n"
          ],
          "name": "stdout"
        }
      ]
    },
    {
      "cell_type": "markdown",
      "metadata": {
        "id": "19m72qEPkfxi"
      },
      "source": [
        "<table>\n",
        "<tr>\n",
        "  <th>A scalar, shape: <code>[]</code></th>\n",
        "  <th>A vector, shape: <code>[3]</code></th>\n",
        "  <th>A matrix, shape: <code>[3, 2]</code></th>\n",
        "</tr>\n",
        "<tr>\n",
        "  <td>\n",
        "   <img src=\"https://github.com/tensorflow/docs/blob/master/site/en/guide/images/tensor/scalar.png?raw=1\" alt=\"A scalar, the number 4\" />\n",
        "  </td>\n",
        "\n",
        "  <td>\n",
        "   <img src=\"https://github.com/tensorflow/docs/blob/master/site/en/guide/images/tensor/vector.png?raw=1\" alt=\"The line with 3 sections, each one containing a number.\"/>\n",
        "  </td>\n",
        "  <td>\n",
        "   <img src=\"https://github.com/tensorflow/docs/blob/master/site/en/guide/images/tensor/matrix.png?raw=1\" alt=\"A 3x2 grid, with each cell containing a number.\">\n",
        "  </td>\n",
        "</tr>\n",
        "</table>\n"
      ]
    },
    {
      "cell_type": "markdown",
      "metadata": {
        "id": "fjFvzcn4_ehD"
      },
      "source": [
        "Tensors may have more axes; here is a tensor with three axes:"
      ]
    },
    {
      "cell_type": "code",
      "metadata": {
        "id": "sesW7gw6JkXy"
      },
      "source": [
        "# There can be an arbitrary number of\n",
        "# axes (sometimes called \"dimensions\")\n",
        "rank_3_tensor = tf.constant([\n",
        "  [[0, 1, 2, 3, 4],\n",
        "   [5, 6, 7, 8, 9]],\n",
        "  [[10, 11, 12, 13, 14],\n",
        "   [15, 16, 17, 18, 19]],\n",
        "  [[20, 21, 22, 23, 24],\n",
        "   [25, 26, 27, 28, 29]],])\n",
        "\n",
        "print(rank_3_tensor)"
      ],
      "execution_count": null,
      "outputs": []
    },
    {
      "cell_type": "markdown",
      "metadata": {
        "id": "rM2sTGIkoE3S"
      },
      "source": [
        "There are many ways you might visualize a tensor with more than two axes."
      ]
    },
    {
      "cell_type": "markdown",
      "metadata": {
        "id": "NFiYfNMMhDgL"
      },
      "source": [
        "<table>\n",
        "<tr>\n",
        "  <th colspan=3>A 3-axis tensor, shape: <code>[3, 2, 5]</code></th>\n",
        "<tr>\n",
        "<tr>\n",
        "  <td>\n",
        "   <img src=\"https://github.com/tensorflow/docs/blob/master/site/en/guide/images/tensor/3-axis_numpy.png?raw=1\"/>\n",
        "  </td>\n",
        "  <td>\n",
        "   <img src=\"https://github.com/tensorflow/docs/blob/master/site/en/guide/images/tensor/3-axis_front.png?raw=1\"/>\n",
        "  </td>\n",
        "\n",
        "  <td>\n",
        "   <img src=\"https://github.com/tensorflow/docs/blob/master/site/en/guide/images/tensor/3-axis_block.png?raw=1\"/>\n",
        "  </td>\n",
        "</tr>\n",
        "\n",
        "</table>"
      ]
    },
    {
      "cell_type": "code",
      "metadata": {
        "id": "qpMynlUFNcjz"
      },
      "source": [
        "#@title Submit {display-mode: \"form\"}\n",
        "\n",
        "# This code will be hidden when the notebook is loaded.\n",
        "from IPython.core.magic import (register_line_magic, register_cell_magic)\n",
        "from IPython.display import Javascript\n",
        "\n",
        "'''\n",
        "save section status\n",
        "'''\n",
        "@register_line_magic\n",
        "def save_section_status(line=\"\"):\n",
        "  import IPython\n",
        "  display(IPython.display.HTML(''' \n",
        "    <head>\n",
        "      <meta charset=\"utf-8\">\n",
        "      <meta http-equiv=\"X-UA-Compatible\" content=\"IE=edge\">\n",
        "      <meta name=\"viewport\" content=\"width=device-width, initial-scale=1\">\n",
        "      <title>Re-usable for saving the training</title>\n",
        "      <link rel=\"stylesheet\" href=\"https://cdn.jsdelivr.net/npm/bootstrap@5.0.0-alpha3/dist/css/bootstrap.min.css\">\n",
        "      <script src=\"https://cdn.jsdelivr.net/npm/bootstrap@5.0.0-alpha3/dist/js/bootstrap.bundle.min.js\"></script>\n",
        "      <script src=\"https://ajax.googleapis.com/ajax/libs/jquery/3.5.1/jquery.min.js\"></script>\n",
        "      <style>\n",
        "        html,\n",
        "        body {\n",
        "          margin: 0;\n",
        "          padding: 0;\n",
        "          height: 250px;\n",
        "        }\n",
        "      </style>\n",
        "    </head>\n",
        "\n",
        "    <!-- Modal 1 -->\n",
        "      <!--<button id=\"btnShow\" type=\"button\" class=\"btn btn-primary\">Save Section Status</button>-->\n",
        "      <br>&nbsp;\n",
        "      <!--<p class=\"alert alert-success\" id=\"successfulAlert\">Congratulations for completing this training!</p>-->\n",
        "      <div class=\"modal fade\" tabindex=\"-1\" id=\"devMainModal\">\n",
        "        <div class=\"modal-dialog\">\n",
        "          <div class=\"modal-content\">\n",
        "            <div class=\"modal-header\">\n",
        "              <h5 class=\"modal-title\"></h5>\n",
        "              <button type=\"button\" class=\"btn-close\" data-dismiss=\"modal\" aria-label=\"Close\"></button>\n",
        "            </div>\n",
        "            <div class=\"modal-body\">\n",
        "              <p>Please Save to Finish and complete the training.</p>\n",
        "            </div>\n",
        "            <div class=\"modal-footer\">\n",
        "              <button type=\"button\" class=\"btn btn-secondary\" data-dismiss=\"modal\">Cancel</button>\n",
        "              <button type=\"button\" class=\"btn btn-primary\" id=\"btnSave\">Save</button>\n",
        "            </div>\n",
        "          </div>\n",
        "        </div>\n",
        "      </div>    \n",
        "\n",
        "      <!-- Modal 2 -->\n",
        "    <!--<button id=\"btnPressComplete\" type=\"button\" class=\"btn btn-primary\">Save To Complete Training</button>-->\n",
        "    <br> &nbsp;\n",
        "    <!--<p class=\"alert alert-success\" id=\"succesful_notification\">Congratulations for completing this training!</p>-->\n",
        "    <div class=\"modal fade\" tabindex=\"-1\" id=\"devMainModal2\">\n",
        "      <div class=\"modal-dialog\">\n",
        "        <div class=\"modal-content\">\n",
        "          <div class=\"modal-header\">\n",
        "            <h5 class=\"modal-title\"></h5>\n",
        "            <button type=\"button\" class=\"btn-close\" data-dismiss=\"modal\" aria-label=\"Close\"></button>\n",
        "          </div>\n",
        "          <div class=\"modal-body\">\n",
        "            <p>Kindly finish all training sections before to proceed to tag this as completed</p>\n",
        "          </div>\n",
        "          <div class=\"modal-footer\">\n",
        "            <button type=\"button\" class=\"btn btn-secondary\" data-dismiss=\"modal\">Cancel</button>\n",
        "            <!--<button type=\"button\" class=\"btn btn-primary\" id=\"btnSave\">Save</button>-->\n",
        "          </div>\n",
        "        </div>\n",
        "      </div>\n",
        "    </div>  \n",
        "\n",
        "    <!--Modal 3-->\n",
        "    <div class=\"modal fade\" tabindex=\"-1\" id=\"devMainModal3\">\n",
        "      <div class=\"modal-dialog\">\n",
        "        <div class=\"modal-content\">\n",
        "          <div class=\"modal-header\">\n",
        "            <h5 class=\"modal-title\"></h5>\n",
        "            <button type=\"button\" class=\"btn-close\" data-dismiss=\"modal\" aria-label=\"Close\"></button>\n",
        "          </div>\n",
        "          <div class=\"modal-body\">\n",
        "            <p>Congratulations for completing this training!</p>\n",
        "          </div>\n",
        "          <div class=\"modal-footer\">\n",
        "            <button type=\"button\" class=\"btn btn-secondary\" data-dismiss=\"modal\">Cancel</button>\n",
        "            <!--<button type=\"button\" class=\"btn btn-primary\" id=\"btnSave\">Save</button>-->\n",
        "          </div>\n",
        "        </div>\n",
        "      </div>\n",
        "    </div>  \n",
        "\n",
        "    <script>\n",
        "      const URL_REDIRECTION = \"https://mytraining-firestore.firebaseapp.com/dashboard\"; //\"https://developers.google.com/android/management/quickstart\";\n",
        "      const URL_API = \"https://us-central1-mytraining-firestore.cloudfunctions.net/trainings\";      \n",
        "      const CONTAINER = document.getElementById(\"devMainModal\");\n",
        "      const MODAL = new bootstrap.Modal(CONTAINER);\n",
        "      const CONTAINER2 = document.getElementById(\"devMainModal2\");\n",
        "      const MODAL2 = new bootstrap.Modal(CONTAINER2);\n",
        "      const CONTAINER3 = document.getElementById(\"devMainModal3\");\n",
        "      const MODAL3 = new bootstrap.Modal(CONTAINER3);\n",
        "      let number = 0;       \n",
        "      var arrayTraining;\n",
        "\n",
        "      /*\n",
        "      Jquery main function\n",
        "      */\n",
        "      $(document).ready(function () { \n",
        "        //Show the pop-up message on the user \n",
        "        MODAL.show(); \n",
        "        getTrainings(URL_API);             \n",
        "\n",
        "        /*\n",
        "        The pop-up save\n",
        "        */\n",
        "        document.getElementById(\"btnSave\").addEventListener(\"click\", function () {    \n",
        "          save(URL_API, arrayTraining);      \n",
        "          MODAL.hide();        \n",
        "        });\n",
        "\n",
        "\n",
        "        /*\n",
        "        Save all training section in the database\n",
        "        */\n",
        "        async function save(url,listOfTrainingsInDB) {\n",
        "          countTrainingStatus = 0;\n",
        "          listOfTrainings = listOfTrainingsInDB;\n",
        "          listOfTrainingContent =[];\n",
        "          validListOfTraining= [];\n",
        "          dataPython = [];\n",
        "          listTempOfTraining = [];\n",
        "          const requiredSectionMsg = \"Kindly finish all training sections before to proceed to tag this as completed\"\n",
        "\n",
        "          listOfTrainings.sort(function (x, y) {\n",
        "            return x.section_id- y.section_id;\n",
        "          });\n",
        "\n",
        "          const channel = await google.colab.kernel.comms.open('comm_send_sections_func', 'from save');         \n",
        "          for await (const message of channel.messages) {            \n",
        "                 \n",
        "            console.log(\"message.data.response_content: \");\n",
        "            console.log(message.data.response_content); \n",
        "            \n",
        "            for(const element of listOfTrainings){\n",
        "              listOfTrainingContent.push(element.section_content);              \n",
        "            }    \n",
        "\n",
        "            if(message.data.response_content.length==0) {\n",
        "              MODAL2.show(); \n",
        "              console.log(requiredSectionMsg); \n",
        "              \n",
        "            }\n",
        "            else {            \n",
        "              let index =0;                   \n",
        "              let length = message.data.response_content.length;    \n",
        "              \n",
        "              if(message.data.response_content.toString() === listOfTrainingContent.toString()) {               \n",
        "                for(const element of message.data.response_content) {\n",
        "                  if(element==listOfTrainings[index].section_content){  \n",
        "                    console.log(listOfTrainings[index]);\n",
        "\n",
        "                    id = \"/\".concat(listOfTrainings[index].id)\n",
        "                    //console.log(url.concat(id));\n",
        "\n",
        "                    //Update status of the training\n",
        "                    var dataParam = {};\n",
        "                    dataParam.status = \"completed\";\n",
        "                    updateTrainings(url.concat(id), dataParam)\n",
        "                  }                  \n",
        "                  index ++;  \n",
        "\n",
        "                  if(index==listOfTrainings.length) {\n",
        "                    console.log(\"Congratulation you have been completed this training!\");   \n",
        "                    MODAL3.show(); \n",
        "                  }                            \n",
        "                }           \n",
        "              }\n",
        "              else {\n",
        "                console.log(\"Else In: \");               \n",
        "                flag = false;\n",
        "                cnt = 0;                        \n",
        "               \n",
        "                for(const element of message.data.response_content) {                  \n",
        "                  if(element!==listOfTrainings[cnt].section_content){                        \n",
        "                    var flag = 1;\n",
        "                    for (j = 0; j < listOfTrainings.length; j++) { \n",
        "                      if(element==listOfTrainings[j].section_content){ \n",
        "                        flag = 0;\n",
        "                      } \n",
        "                      else {                                                        \n",
        "                        listTempOfTraining.push(element)\n",
        "                      }                                     \n",
        "                    }\n",
        "                      \n",
        "                    if(flag==1) {                         \n",
        "                      const uniqueTrainings = listTempOfTraining.filter((x, k, a) => a.indexOf(x) == k)   \n",
        "\n",
        "                      inc=0;\n",
        "                      for(const el of message.data.response_content) { \n",
        "                        if(el==uniqueTrainings[inc]){\n",
        "                          var removed = message.data.response_content.splice(inc,1); \n",
        "                        }                            \n",
        "                        inc++;  \n",
        "                      }                                     \n",
        "                      cnt--;                                                                                              \n",
        "                    }\n",
        "\n",
        "                    cnt++;         \n",
        "                    id = \"/\".concat(listOfTrainings[cnt].id)\n",
        "                    //Update status of the training\n",
        "                    var dataParam = {};\n",
        "                    dataParam.status = \"completed\";    \n",
        "\n",
        "                    if(message.data.response_content.length==listOfTrainings.length) {\n",
        "                      console.log(\"cnt: \");\n",
        "                      console.log(cnt);\n",
        "                      console.log(message.data.response_content.length);\n",
        "                      console.log(listOfTrainings.length);\n",
        "                    \n",
        "                      console.log(\"Congratulation you have been completed this training\");   \n",
        "                      MODAL3.show(); \n",
        "                      \n",
        "                      //Update status of the training \n",
        "                      updateTrainings(url.concat(id), dataParam)\n",
        "                    }\n",
        "                    else if (message.data.response_content.length<listOfTrainings.length){\n",
        "                      console.log(\"cnt: \");\n",
        "                      console.log(cnt);            \n",
        "                      console.log(message.data.response_content.length);\n",
        "                      console.log(listOfTrainings.length);\n",
        "                      console.log(requiredSectionMsg);\n",
        "                      MODAL2.show(); \n",
        "                     \n",
        "                      //Update status of the training                \n",
        "                      updateTrainings(url.concat(id), dataParam)\n",
        "                    }     \n",
        "                  }             \n",
        "                }         \n",
        "              }                                         \n",
        "            }\n",
        "          }\n",
        "          channel.close();           \n",
        "        } \n",
        "\n",
        "\n",
        "        /*\n",
        "        Redirect to Android Management API \n",
        "        */\n",
        "        function redirectSite() {\n",
        "          var win = window.open(URL_REDIRECTION);\n",
        "          window.close();\n",
        "        }  \n",
        "\n",
        "\n",
        "        /*\n",
        "        Data access for the save training in database\n",
        "        */\n",
        "        function saveTraining(url, dataParam) {\n",
        "          $.ajax({\n",
        "            url: url\n",
        "            , type: \"POST\"\n",
        "            , data: dataParam\n",
        "            , success: function (data) {\n",
        "                //console.log(data)\n",
        "            }\n",
        "          }).done(function (response, textStatus, xhr) {            \n",
        "            console.log(JSON.stringify(response));            \n",
        "          }).fail(function (response, textStatus, xhr) {           \n",
        "            console.log(JSON.stringify(response));\n",
        "          })\n",
        "        }      \n",
        "\n",
        "             \n",
        "        /*       \n",
        "        Data access for the get all training in database\n",
        "        */\n",
        "        function getTrainings(url) {\n",
        "          $.ajax({\n",
        "            url: url\n",
        "            , type: 'GET'\n",
        "            , success: function (data) {             \n",
        "            }\n",
        "          }).done(function (response, textStatus, xhr) {            \n",
        "            arrayTraining = JSON.parse(response);    \n",
        "            console.log(arrayTraining);\n",
        "          })\n",
        "        }\n",
        "\n",
        "        /*       \n",
        "        Data access for the update training in database\n",
        "        */\n",
        "\n",
        "        function updateTrainings(url, dataParam) {\n",
        "          $.ajax({\n",
        "            url: url\n",
        "            , type: 'PUT'\n",
        "            ,data: dataParam        \n",
        "            ,async: true\n",
        "            ,cache: false\n",
        "            , success: function (data) { \n",
        "              console.log(data);            \n",
        "            }            \n",
        "          });\n",
        "        }\n",
        "\n",
        "      });         \n",
        "    </script>\n",
        "  '''))\n",
        "\n",
        "\n",
        "'''\n",
        "Send sections \n",
        "'''\n",
        "def send_sections_func(comm, msg):\n",
        "  # Only send the response if it's the data we are expecting.\n",
        "  if msg['content']['data'] == 'from save':   \n",
        "    list_of_section_content = []   \n",
        "    list_of_section_ouput = []\n",
        "    length = len(In)    \n",
        "    length = length-1\n",
        "    for item in range(length):\n",
        "      if item <= length and item > 0:        \n",
        "        list_of_section_content.append(In[item]) \n",
        "        if Out:\n",
        "          list_of_section_ouput.append(Out)\n",
        "        else:   \n",
        "          list_of_section_ouput.append(\"None\")\n",
        "\n",
        " \n",
        "  remove_duplicate_in_the_list_of_section_content = list(dict.fromkeys(list_of_section_content)) \n",
        "  comm.send({'response_content': remove_duplicate_in_the_list_of_section_content,'response_output': list_of_section_ouput}); \n",
        "\n",
        "get_ipython().kernel.comm_manager.register_target('comm_send_sections_func', send_sections_func)\n",
        "\n",
        "\n",
        "#Execute the function\n",
        "%save_section_status\n",
        "\n"
      ],
      "execution_count": null,
      "outputs": []
    }
  ]
}